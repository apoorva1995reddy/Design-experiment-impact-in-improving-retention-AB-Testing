{
 "cells": [
  {
   "cell_type": "markdown",
   "metadata": {},
   "source": [
    "# Design experiment impact in improving retention "
   ]
  },
  {
   "cell_type": "code",
   "execution_count": 14,
   "metadata": {},
   "outputs": [],
   "source": [
    "import math as mt\n",
    "import numpy as np\n",
    "import pandas as pd\n",
    "from scipy.stats import norm"
   ]
  },
  {
   "cell_type": "code",
   "execution_count": 2,
   "metadata": {},
   "outputs": [],
   "source": [
    "import pandas as pd\n",
    "control=pd.read_csv(\"control_data.csv\")\n",
    "experiment=pd.read_csv(\"experiment_data.csv\")"
   ]
  },
  {
   "cell_type": "code",
   "execution_count": 5,
   "metadata": {},
   "outputs": [
    {
     "data": {
      "text/html": [
       "<div>\n",
       "<style scoped>\n",
       "    .dataframe tbody tr th:only-of-type {\n",
       "        vertical-align: middle;\n",
       "    }\n",
       "\n",
       "    .dataframe tbody tr th {\n",
       "        vertical-align: top;\n",
       "    }\n",
       "\n",
       "    .dataframe thead th {\n",
       "        text-align: right;\n",
       "    }\n",
       "</style>\n",
       "<table border=\"1\" class=\"dataframe\">\n",
       "  <thead>\n",
       "    <tr style=\"text-align: right;\">\n",
       "      <th></th>\n",
       "      <th>Date</th>\n",
       "      <th>Pageviews</th>\n",
       "      <th>Clicks</th>\n",
       "      <th>Enrollments</th>\n",
       "      <th>Payments</th>\n",
       "    </tr>\n",
       "  </thead>\n",
       "  <tbody>\n",
       "    <tr>\n",
       "      <th>0</th>\n",
       "      <td>Sat, Oct 11</td>\n",
       "      <td>7716</td>\n",
       "      <td>686</td>\n",
       "      <td>105.0</td>\n",
       "      <td>34.0</td>\n",
       "    </tr>\n",
       "    <tr>\n",
       "      <th>1</th>\n",
       "      <td>Sun, Oct 12</td>\n",
       "      <td>9288</td>\n",
       "      <td>785</td>\n",
       "      <td>116.0</td>\n",
       "      <td>91.0</td>\n",
       "    </tr>\n",
       "    <tr>\n",
       "      <th>2</th>\n",
       "      <td>Mon, Oct 13</td>\n",
       "      <td>10480</td>\n",
       "      <td>884</td>\n",
       "      <td>145.0</td>\n",
       "      <td>79.0</td>\n",
       "    </tr>\n",
       "    <tr>\n",
       "      <th>3</th>\n",
       "      <td>Tue, Oct 14</td>\n",
       "      <td>9867</td>\n",
       "      <td>827</td>\n",
       "      <td>138.0</td>\n",
       "      <td>92.0</td>\n",
       "    </tr>\n",
       "    <tr>\n",
       "      <th>4</th>\n",
       "      <td>Wed, Oct 15</td>\n",
       "      <td>9793</td>\n",
       "      <td>832</td>\n",
       "      <td>140.0</td>\n",
       "      <td>94.0</td>\n",
       "    </tr>\n",
       "  </tbody>\n",
       "</table>\n",
       "</div>"
      ],
      "text/plain": [
       "          Date  Pageviews  Clicks  Enrollments  Payments\n",
       "0  Sat, Oct 11       7716     686        105.0      34.0\n",
       "1  Sun, Oct 12       9288     785        116.0      91.0\n",
       "2  Mon, Oct 13      10480     884        145.0      79.0\n",
       "3  Tue, Oct 14       9867     827        138.0      92.0\n",
       "4  Wed, Oct 15       9793     832        140.0      94.0"
      ]
     },
     "execution_count": 5,
     "metadata": {},
     "output_type": "execute_result"
    }
   ],
   "source": [
    "experiment.head()"
   ]
  },
  {
   "cell_type": "code",
   "execution_count": 4,
   "metadata": {},
   "outputs": [
    {
     "data": {
      "text/html": [
       "<div>\n",
       "<style scoped>\n",
       "    .dataframe tbody tr th:only-of-type {\n",
       "        vertical-align: middle;\n",
       "    }\n",
       "\n",
       "    .dataframe tbody tr th {\n",
       "        vertical-align: top;\n",
       "    }\n",
       "\n",
       "    .dataframe thead th {\n",
       "        text-align: right;\n",
       "    }\n",
       "</style>\n",
       "<table border=\"1\" class=\"dataframe\">\n",
       "  <thead>\n",
       "    <tr style=\"text-align: right;\">\n",
       "      <th></th>\n",
       "      <th>Date</th>\n",
       "      <th>Pageviews</th>\n",
       "      <th>Clicks</th>\n",
       "      <th>Enrollments</th>\n",
       "      <th>Payments</th>\n",
       "    </tr>\n",
       "  </thead>\n",
       "  <tbody>\n",
       "    <tr>\n",
       "      <th>0</th>\n",
       "      <td>Sat, Oct 11</td>\n",
       "      <td>7723</td>\n",
       "      <td>687</td>\n",
       "      <td>134.0</td>\n",
       "      <td>70.0</td>\n",
       "    </tr>\n",
       "    <tr>\n",
       "      <th>1</th>\n",
       "      <td>Sun, Oct 12</td>\n",
       "      <td>9102</td>\n",
       "      <td>779</td>\n",
       "      <td>147.0</td>\n",
       "      <td>70.0</td>\n",
       "    </tr>\n",
       "    <tr>\n",
       "      <th>2</th>\n",
       "      <td>Mon, Oct 13</td>\n",
       "      <td>10511</td>\n",
       "      <td>909</td>\n",
       "      <td>167.0</td>\n",
       "      <td>95.0</td>\n",
       "    </tr>\n",
       "    <tr>\n",
       "      <th>3</th>\n",
       "      <td>Tue, Oct 14</td>\n",
       "      <td>9871</td>\n",
       "      <td>836</td>\n",
       "      <td>156.0</td>\n",
       "      <td>105.0</td>\n",
       "    </tr>\n",
       "    <tr>\n",
       "      <th>4</th>\n",
       "      <td>Wed, Oct 15</td>\n",
       "      <td>10014</td>\n",
       "      <td>837</td>\n",
       "      <td>163.0</td>\n",
       "      <td>64.0</td>\n",
       "    </tr>\n",
       "  </tbody>\n",
       "</table>\n",
       "</div>"
      ],
      "text/plain": [
       "          Date  Pageviews  Clicks  Enrollments  Payments\n",
       "0  Sat, Oct 11       7723     687        134.0      70.0\n",
       "1  Sun, Oct 12       9102     779        147.0      70.0\n",
       "2  Mon, Oct 13      10511     909        167.0      95.0\n",
       "3  Tue, Oct 14       9871     836        156.0     105.0\n",
       "4  Wed, Oct 15      10014     837        163.0      64.0"
      ]
     },
     "execution_count": 4,
     "metadata": {},
     "output_type": "execute_result"
    }
   ],
   "source": [
    "control.head()"
   ]
  },
  {
   "cell_type": "markdown",
   "metadata": {},
   "source": [
    "# A/B TEST EXPERIMENT DESIGN "
   ]
  },
  {
   "cell_type": "markdown",
   "metadata": {},
   "source": [
    "# Step 1: Sanity checks on Invariant Metrics "
   ]
  },
  {
   "cell_type": "markdown",
   "metadata": {},
   "source": [
    "### 3 Invariant metrics \n",
    "\n",
    "1) Number of cookies that view the course overview page \n",
    "\n",
    "2) Number of cookies to click ‘Start Free Trial’ button which happens before the ‘screener’ pops up\n",
    "\n",
    "3) Free trial button Click through Probability: Number of cookies that click on ‘Start Free Trial’/ Number of cookies that view the course overview page"
   ]
  },
  {
   "cell_type": "code",
   "execution_count": 54,
   "metadata": {},
   "outputs": [
    {
     "name": "stdout",
     "output_type": "stream",
     "text": [
      "('#pageviews in control:', 345543)\n",
      "('#pageviews in experiment:', 344660)\n",
      "('#pageviews in total:', 690203)\n"
     ]
    }
   ],
   "source": [
    "# Sanity Check on Invariant metric 1 : Cookies that view the course overview page \n",
    "pageviews_cont=control['Pageviews'].sum()\n",
    "pageviews_exp=experiment['Pageviews'].sum()\n",
    "pageviews_total=pageviews_cont+pageviews_exp\n",
    "print (\"#pageviews in control:\", pageviews_cont)\n",
    "print (\"#pageviews in experiment:\" ,pageviews_exp)\n",
    "print (\"#pageviews in total:\" ,pageviews_total)"
   ]
  },
  {
   "cell_type": "markdown",
   "metadata": {},
   "source": [
    "Let's make sure this difference in amounts is random and not significant. \n",
    "We expect the amount of pageviews in the control group to be about a half (50%) of the total pageviews in both groups. This can be represented by a binomial random distribution where a cookie is assigned to one of the groups wit 0.5 proability. Using Central Limit Theorem, we can approximate this binomial distribution to normal distribution because the sample size is greater than 30 with a mean p (0.05) and a standard deviation of sqrt(p(1-p)/n) \n",
    "\n",
    "Therefore p=0.5 "
   ]
  },
  {
   "cell_type": "markdown",
   "metadata": {},
   "source": [
    "### Null Hypothesis: Any difference between the metric value of the two groups is due to chance. \n",
    "### Alternate Hypothesis: The difference between the metric value of the two groups is meaningful, and significant. It cannot be due to random change.\n"
   ]
  },
  {
   "cell_type": "markdown",
   "metadata": {},
   "source": [
    "If the observed p(pageviews in one of the groups/ total pageviews of two groups) lies within 95% confidence interval of p=0.5, then there's no significant difference between the groups which is necessary for the A/B Testing to happen the right way. "
   ]
  },
  {
   "cell_type": "code",
   "execution_count": 55,
   "metadata": {},
   "outputs": [],
   "source": [
    "p=0.5\n",
    "alpha=0.05\n",
    "def get_z_score(alpha):\n",
    "    return norm.ppf(alpha)\n",
    "def standard_error(p,N):\n",
    "    return round(mt.sqrt(p*(1-p)/(N)),4)"
   ]
  },
  {
   "cell_type": "code",
   "execution_count": 57,
   "metadata": {},
   "outputs": [
    {
     "name": "stdout",
     "output_type": "stream",
     "text": [
      "('The confidence interval is between', 0.4988, 'and', 0.5012)\n",
      "('observed_probability is ', 0.5006)\n"
     ]
    }
   ],
   "source": [
    "## Page views \n",
    "observed_probability=round(pageviews_cont*1.0/(pageviews_total),4)\n",
    "Margin_error=round(get_z_score(1-(alpha/2))*mt.sqrt(p*(1-p)/(pageviews_total)),4)\n",
    "print (\"The confidence interval is between\",p-Margin_error,\"and\",p+Margin_error)\n",
    "print (\"observed_probability is \", observed_probability)"
   ]
  },
  {
   "cell_type": "markdown",
   "metadata": {},
   "source": [
    "The observed probablity lies within confidence interval which means we cannot reject null hypothesis. Therefore, there's no significant difference between the pageview of the two groups and hence the pageview metrics is indeed an invariable metric"
   ]
  },
  {
   "cell_type": "code",
   "execution_count": 60,
   "metadata": {},
   "outputs": [
    {
     "name": "stdout",
     "output_type": "stream",
     "text": [
      "('#clicks in control:', 28378)\n",
      "('#clicks in experiment:', 28325)\n",
      "('#clicks in total:', 56703)\n"
     ]
    }
   ],
   "source": [
    "# Sanity Check on Invariant metric 2 : Number of cookies to click ‘Start Free Trial’ button\n",
    "clicks_cont=control['Clicks'].sum()\n",
    "clicks_exp=experiment['Clicks'].sum()\n",
    "clicks_total=clicks_cont+clicks_exp\n",
    "print (\"#clicks in control:\", clicks_cont)\n",
    "print (\"#clicks in experiment:\" ,clicks_exp)\n",
    "print (\"#clicks in total:\" ,clicks_total)"
   ]
  },
  {
   "cell_type": "code",
   "execution_count": 61,
   "metadata": {},
   "outputs": [
    {
     "name": "stdout",
     "output_type": "stream",
     "text": [
      "('The confidence interval is between', 0.4959, 'and', 0.5041)\n",
      "('observed_probability is ', 0.5005)\n"
     ]
    }
   ],
   "source": [
    "## Clicks\n",
    "observed_probability=round(clicks_cont*1.0/(clicks_total),4)\n",
    "Margin_error=round(get_z_score(1-(alpha/2))*mt.sqrt(p*(1-p)/(clicks_total)),4)\n",
    "print (\"The confidence interval is between\",p-Margin_error,\"and\",p+Margin_error)\n",
    "print (\"observed_probability is \", observed_probability)"
   ]
  },
  {
   "cell_type": "markdown",
   "metadata": {},
   "source": [
    "The observed probablity lies within confidence interval which means we cannot reject null hypothesis. Therefore, there's no significant difference between the pageview of the two groups and hence the clicks metrics is indeed an invariable metric"
   ]
  },
  {
   "cell_type": "markdown",
   "metadata": {},
   "source": [
    "The first two metrics are invariant metrics and are aggregate counts, hence used the above approach (approximating binomial to normal).  In the case of Click through proability, we want to make sure the proportion of clicks given a pageview (observed CTP) is about the same in both groups. In order to check this out, we will calculate the Click through proability for each of the group and calculate a confidence interval for the expected difference between them. \n",
    "\n",
    "Therefore,\n",
    "\n",
    "Null Hypothesis: CTP of control - CTP of experiment = 0. No significant difference\n",
    "\n",
    "Alternate Hypothesis: CTP of control - CTP of experiment != 0. There is a sgnificant difference\n",
    "\n",
    "Note: Here while calculating Confidence Interval, we consider the standard pooled error. We should understand that CTP is a proportion in a population (amount of events x in a population n) like the amount of clicks out of the amount of pageviews.\n",
    "\n",
    "SDpool=sqrt(ppool^(1−ppool^(1Ncont+1Nexp))\n",
    " \n",
    "ppool=(xcont+xexp)/ (Ncont+Nexp)\n"
   ]
  },
  {
   "cell_type": "code",
   "execution_count": 95,
   "metadata": {},
   "outputs": [
    {
     "name": "stdout",
     "output_type": "stream",
     "text": [
      "('The confidence interval is between', -0.0013, 'and', 0.0013)\n",
      "('Observed difference is ', 3e-05)\n"
     ]
    }
   ],
   "source": [
    "# Sanity Check on Invariant metric 3 : Click through proability \n",
    "p=0.0\n",
    "ctp_cont=clicks_cont*1.0/pageviews_cont\n",
    "ctp_exp=clicks_exp*1.0/pageviews_exp\n",
    "d_observed=round(ctp_exp-ctp_cont,5)\n",
    "p_pooled=clicks_total*1.0/pageviews_total\n",
    "sd_pooled=mt.sqrt(p_pooled*(1-p_pooled)*(1.0/pageviews_cont+1.0/pageviews_exp*1.0))\n",
    "margin_error=round(get_z_score(1-(alpha/2))*sd_pooled,4)\n",
    "print (\"The confidence interval is between\",p-margin_error,\"and\",p+margin_error)\n",
    "print ('Observed difference is ', d_observed)"
   ]
  },
  {
   "cell_type": "markdown",
   "metadata": {},
   "source": [
    "The observed CTP lies within confidence interval which means we cannot reject null hypothesis. Therefore, there's no significant difference between the pageview of the two groups and hence the CTP is indeed an invariable metric"
   ]
  },
  {
   "cell_type": "markdown",
   "metadata": {},
   "source": [
    "### All the sanity checks are satisfied and proves that the control and experiment groups have similar distribution and also the pageviews have been randomly assigned into the experiment and control groups. Hence our A/B Testing can be proceeded further"
   ]
  },
  {
   "cell_type": "markdown",
   "metadata": {},
   "source": [
    "# Step 2: Change in Evaluation Metrics "
   ]
  },
  {
   "cell_type": "markdown",
   "metadata": {},
   "source": [
    "If the difference in evaluation metrics between control and experiment group is significant both statistically and practically, it means that the suggested change is beneficical to the company "
   ]
  },
  {
   "cell_type": "markdown",
   "metadata": {},
   "source": [
    "Evaluation Metrics: \n",
    "\n",
    "These are the performance indicators (sums, counts, means, percentiles, probability, rates or ratios) designed to measure the objective and the experiment impact. You want to choose a metric that is has high sensitivity, that means the metric can pick up the change you care about. You also want the metric to be robust against changes you don’t care about. \n",
    "\n",
    "1) Retention: # user-ids remain enrolled past 14 day trial period and made payment divided by # user-ids who enrolled in the course through free trial where they enter card information\n",
    "\n",
    "2) Net conversion: # user-ids remain enrolled past 14 day trial period and made payment divided by # unique cookies to click the ‘Start Free Trial’ button \n",
    "\n",
    "* Cookies and user-ids are different because user-ids are tracked only when the person enrolls in the course. \n",
    "\n",
    "We expect the Net Conversion rate to drop if the experiment works because the users now would be more informed and hence would access free course material than enroll and make payment. The numerator lowered for the experiment group while denominator is almost the same. \n",
    "\n",
    "Retention, on the other hand is expected to be more in the experiment group because the denominator decreases because of the very same reason that users are more informed and would enroll through free trial only when they can contribute more than 5 hours per week which acts as a proxy for improved course completion probability. \n"
   ]
  },
  {
   "cell_type": "markdown",
   "metadata": {},
   "source": [
    "From the sample size calculations, we have concluded that with the data available we can only arrive at solid conclusions on net conversion evaluation metric"
   ]
  },
  {
   "cell_type": "code",
   "execution_count": 99,
   "metadata": {},
   "outputs": [
    {
     "name": "stdout",
     "output_type": "stream",
     "text": [
      "('The confidence interval is between', -0.0116, 'and', 0.0018000000000000004)\n",
      "('Observed difference is ', -0.0049)\n",
      "('Expected difference is ', 0.0)\n"
     ]
    }
   ],
   "source": [
    "clicks_cont=control[\"Clicks\"].loc[control[\"Enrollments\"].notnull()].sum()\n",
    "clicks_exp=experiment[\"Clicks\"].loc[experiment[\"Enrollments\"].notnull()].sum()\n",
    "enrollments_cont=control[\"Enrollments\"].sum()\n",
    "enrollments_exp=experiment[\"Enrollments\"].sum()\n",
    "payments_cont=control[\"Payments\"].sum()\n",
    "payments_exp=experiment[\"Payments\"].sum()\n",
    "# Expected p \n",
    "p=0.0 # as no difference is expected according to null hypothesis \n",
    "# calculating observed net conversion rate\n",
    "NC_cont_obs=payments_cont/clicks_cont\n",
    "NC_exp_obs=payments_exp/clicks_exp\n",
    "# calculating observed difference in rates \n",
    "NC_diff_obs=round(NC_exp_obs-NC_cont_obs,4)\n",
    "# calculating standard pooled error and its confidence interval \n",
    "NC_pooled=(payments_cont+payments_exp)/(clicks_cont+clicks_exp)\n",
    "NC_sd_pooled=mt.sqrt(NC_pooled*(1-NC_pooled)*(1.0/clicks_cont+1.0/clicks_exp))\n",
    "NC_margin_error=round(get_z_score(1-alpha/2)*NC_sd_pooled,4)\n",
    "print (\"The confidence interval is between\",NC_diff_obs-NC_margin_error,\"and\",NC_diff_obs+NC_margin_error)\n",
    "print ('Observed difference is ', NC_diff_obs)\n",
    "print ('Expected difference is ', p)"
   ]
  },
  {
   "cell_type": "markdown",
   "metadata": {},
   "source": [
    "Observe that the net conversion rate decreased by 0.49% units which is expected as stated above. Net conversion rate in the experiment group is lower than the control group. This change is significant if confidence interval doesn't contain zero because only then we can reject null hypothesis.Thus proving that change in the metric is because of the experiment and not by random . Also, it is practically significant if dmin doesn't fall in the Confidence interval  "
   ]
  },
  {
   "cell_type": "markdown",
   "metadata": {},
   "source": [
    "But in this case, the CI contains zero therefore, the change is not significant. Also, you can notice that the change can range between -1.6% and 1.8% which is less than the practical significance of 2%. "
   ]
  },
  {
   "cell_type": "markdown",
   "metadata": {},
   "source": [
    "## Conclusion:  So this change is neither statistically nor practically significant  "
   ]
  },
  {
   "cell_type": "markdown",
   "metadata": {},
   "source": [
    "# Step 3: Sign tests to find patterns "
   ]
  },
  {
   "cell_type": "markdown",
   "metadata": {},
   "source": [
    "Sign test helps in checking whether the direction of differences (either positive or negative) in the evaluation metrics between two groups are meaningfully distributed over the days of the experiment or not. If the change is negative for all the days, then our experiment is indeed driving the rate lower. Basically, this test is helpful to see the behaviour of signs between weekdays/weekends, different regions and spot common trends. If any, then probably a further breakdown of data and traffic would be required before running another set of A/B tests"
   ]
  },
  {
   "cell_type": "markdown",
   "metadata": {},
   "source": [
    "Intuition: Computing the evaluation metric for every day and then check for how many days the metric was lower in the experiment group. This similar to assign a binomial variable being assigned 1 when Netconversion of experiment group is less than control group.  and this will be the number of succssesses for our binomial variable. Once this is defined we can look at the proportion of days of success out of all the available days."
   ]
  },
  {
   "cell_type": "code",
   "execution_count": 118,
   "metadata": {},
   "outputs": [
    {
     "data": {
      "text/html": [
       "<div>\n",
       "<style scoped>\n",
       "    .dataframe tbody tr th:only-of-type {\n",
       "        vertical-align: middle;\n",
       "    }\n",
       "\n",
       "    .dataframe tbody tr th {\n",
       "        vertical-align: top;\n",
       "    }\n",
       "\n",
       "    .dataframe thead th {\n",
       "        text-align: right;\n",
       "    }\n",
       "</style>\n",
       "<table border=\"1\" class=\"dataframe\">\n",
       "  <thead>\n",
       "    <tr style=\"text-align: right;\">\n",
       "      <th></th>\n",
       "      <th>Date_cont</th>\n",
       "      <th>Pageviews_cont</th>\n",
       "      <th>Clicks_cont</th>\n",
       "      <th>Enrollments_cont</th>\n",
       "      <th>Payments_cont</th>\n",
       "      <th>Date_exp</th>\n",
       "      <th>Pageviews_exp</th>\n",
       "      <th>Clicks_exp</th>\n",
       "      <th>Enrollments_exp</th>\n",
       "      <th>Payments_exp</th>\n",
       "    </tr>\n",
       "  </thead>\n",
       "  <tbody>\n",
       "    <tr>\n",
       "      <th>0</th>\n",
       "      <td>Sat, Oct 11</td>\n",
       "      <td>7723</td>\n",
       "      <td>687</td>\n",
       "      <td>134.0</td>\n",
       "      <td>70.0</td>\n",
       "      <td>Sat, Oct 11</td>\n",
       "      <td>7716</td>\n",
       "      <td>686</td>\n",
       "      <td>105.0</td>\n",
       "      <td>34.0</td>\n",
       "    </tr>\n",
       "    <tr>\n",
       "      <th>1</th>\n",
       "      <td>Sun, Oct 12</td>\n",
       "      <td>9102</td>\n",
       "      <td>779</td>\n",
       "      <td>147.0</td>\n",
       "      <td>70.0</td>\n",
       "      <td>Sun, Oct 12</td>\n",
       "      <td>9288</td>\n",
       "      <td>785</td>\n",
       "      <td>116.0</td>\n",
       "      <td>91.0</td>\n",
       "    </tr>\n",
       "    <tr>\n",
       "      <th>2</th>\n",
       "      <td>Mon, Oct 13</td>\n",
       "      <td>10511</td>\n",
       "      <td>909</td>\n",
       "      <td>167.0</td>\n",
       "      <td>95.0</td>\n",
       "      <td>Mon, Oct 13</td>\n",
       "      <td>10480</td>\n",
       "      <td>884</td>\n",
       "      <td>145.0</td>\n",
       "      <td>79.0</td>\n",
       "    </tr>\n",
       "    <tr>\n",
       "      <th>3</th>\n",
       "      <td>Tue, Oct 14</td>\n",
       "      <td>9871</td>\n",
       "      <td>836</td>\n",
       "      <td>156.0</td>\n",
       "      <td>105.0</td>\n",
       "      <td>Tue, Oct 14</td>\n",
       "      <td>9867</td>\n",
       "      <td>827</td>\n",
       "      <td>138.0</td>\n",
       "      <td>92.0</td>\n",
       "    </tr>\n",
       "    <tr>\n",
       "      <th>4</th>\n",
       "      <td>Wed, Oct 15</td>\n",
       "      <td>10014</td>\n",
       "      <td>837</td>\n",
       "      <td>163.0</td>\n",
       "      <td>64.0</td>\n",
       "      <td>Wed, Oct 15</td>\n",
       "      <td>9793</td>\n",
       "      <td>832</td>\n",
       "      <td>140.0</td>\n",
       "      <td>94.0</td>\n",
       "    </tr>\n",
       "  </tbody>\n",
       "</table>\n",
       "</div>"
      ],
      "text/plain": [
       "     Date_cont  Pageviews_cont  Clicks_cont  Enrollments_cont  Payments_cont  \\\n",
       "0  Sat, Oct 11            7723          687             134.0           70.0   \n",
       "1  Sun, Oct 12            9102          779             147.0           70.0   \n",
       "2  Mon, Oct 13           10511          909             167.0           95.0   \n",
       "3  Tue, Oct 14            9871          836             156.0          105.0   \n",
       "4  Wed, Oct 15           10014          837             163.0           64.0   \n",
       "\n",
       "      Date_exp  Pageviews_exp  Clicks_exp  Enrollments_exp  Payments_exp  \n",
       "0  Sat, Oct 11           7716         686            105.0          34.0  \n",
       "1  Sun, Oct 12           9288         785            116.0          91.0  \n",
       "2  Mon, Oct 13          10480         884            145.0          79.0  \n",
       "3  Tue, Oct 14           9867         827            138.0          92.0  \n",
       "4  Wed, Oct 15           9793         832            140.0          94.0  "
      ]
     },
     "execution_count": 118,
     "metadata": {},
     "output_type": "execute_result"
    }
   ],
   "source": [
    "# Merging two groups \n",
    "whole_exp=control.join(other=experiment,how=\"inner\",lsuffix=\"_cont\",rsuffix=\"_exp\")\n",
    "whole_exp=whole_exp.loc[whole_exp[\"Enrollments_cont\"].notnull()]\n",
    "whole_exp.head()"
   ]
  },
  {
   "cell_type": "code",
   "execution_count": 119,
   "metadata": {},
   "outputs": [
    {
     "data": {
      "text/plain": [
       "(23, 10)"
      ]
     },
     "execution_count": 119,
     "metadata": {},
     "output_type": "execute_result"
    }
   ],
   "source": [
    "whole_exp.shape\n",
    "# 23 days data "
   ]
  },
  {
   "cell_type": "code",
   "execution_count": 120,
   "metadata": {},
   "outputs": [
    {
     "data": {
      "text/html": [
       "<div>\n",
       "<style scoped>\n",
       "    .dataframe tbody tr th:only-of-type {\n",
       "        vertical-align: middle;\n",
       "    }\n",
       "\n",
       "    .dataframe tbody tr th {\n",
       "        vertical-align: top;\n",
       "    }\n",
       "\n",
       "    .dataframe thead th {\n",
       "        text-align: right;\n",
       "    }\n",
       "</style>\n",
       "<table border=\"1\" class=\"dataframe\">\n",
       "  <thead>\n",
       "    <tr style=\"text-align: right;\">\n",
       "      <th></th>\n",
       "      <th>Date_cont</th>\n",
       "      <th>Pageviews_cont</th>\n",
       "      <th>Clicks_cont</th>\n",
       "      <th>Enrollments_cont</th>\n",
       "      <th>Payments_cont</th>\n",
       "      <th>Date_exp</th>\n",
       "      <th>Pageviews_exp</th>\n",
       "      <th>Clicks_exp</th>\n",
       "      <th>Enrollments_exp</th>\n",
       "      <th>Payments_exp</th>\n",
       "      <th>NC_success</th>\n",
       "    </tr>\n",
       "  </thead>\n",
       "  <tbody>\n",
       "    <tr>\n",
       "      <th>0</th>\n",
       "      <td>Sat, Oct 11</td>\n",
       "      <td>7723</td>\n",
       "      <td>687</td>\n",
       "      <td>134.0</td>\n",
       "      <td>70.0</td>\n",
       "      <td>Sat, Oct 11</td>\n",
       "      <td>7716</td>\n",
       "      <td>686</td>\n",
       "      <td>105.0</td>\n",
       "      <td>34.0</td>\n",
       "      <td>0</td>\n",
       "    </tr>\n",
       "    <tr>\n",
       "      <th>1</th>\n",
       "      <td>Sun, Oct 12</td>\n",
       "      <td>9102</td>\n",
       "      <td>779</td>\n",
       "      <td>147.0</td>\n",
       "      <td>70.0</td>\n",
       "      <td>Sun, Oct 12</td>\n",
       "      <td>9288</td>\n",
       "      <td>785</td>\n",
       "      <td>116.0</td>\n",
       "      <td>91.0</td>\n",
       "      <td>1</td>\n",
       "    </tr>\n",
       "    <tr>\n",
       "      <th>2</th>\n",
       "      <td>Mon, Oct 13</td>\n",
       "      <td>10511</td>\n",
       "      <td>909</td>\n",
       "      <td>167.0</td>\n",
       "      <td>95.0</td>\n",
       "      <td>Mon, Oct 13</td>\n",
       "      <td>10480</td>\n",
       "      <td>884</td>\n",
       "      <td>145.0</td>\n",
       "      <td>79.0</td>\n",
       "      <td>0</td>\n",
       "    </tr>\n",
       "    <tr>\n",
       "      <th>3</th>\n",
       "      <td>Tue, Oct 14</td>\n",
       "      <td>9871</td>\n",
       "      <td>836</td>\n",
       "      <td>156.0</td>\n",
       "      <td>105.0</td>\n",
       "      <td>Tue, Oct 14</td>\n",
       "      <td>9867</td>\n",
       "      <td>827</td>\n",
       "      <td>138.0</td>\n",
       "      <td>92.0</td>\n",
       "      <td>0</td>\n",
       "    </tr>\n",
       "    <tr>\n",
       "      <th>4</th>\n",
       "      <td>Wed, Oct 15</td>\n",
       "      <td>10014</td>\n",
       "      <td>837</td>\n",
       "      <td>163.0</td>\n",
       "      <td>64.0</td>\n",
       "      <td>Wed, Oct 15</td>\n",
       "      <td>9793</td>\n",
       "      <td>832</td>\n",
       "      <td>140.0</td>\n",
       "      <td>94.0</td>\n",
       "      <td>0</td>\n",
       "    </tr>\n",
       "  </tbody>\n",
       "</table>\n",
       "</div>"
      ],
      "text/plain": [
       "     Date_cont  Pageviews_cont  Clicks_cont  Enrollments_cont  Payments_cont  \\\n",
       "0  Sat, Oct 11            7723          687             134.0           70.0   \n",
       "1  Sun, Oct 12            9102          779             147.0           70.0   \n",
       "2  Mon, Oct 13           10511          909             167.0           95.0   \n",
       "3  Tue, Oct 14            9871          836             156.0          105.0   \n",
       "4  Wed, Oct 15           10014          837             163.0           64.0   \n",
       "\n",
       "      Date_exp  Pageviews_exp  Clicks_exp  Enrollments_exp  Payments_exp  \\\n",
       "0  Sat, Oct 11           7716         686            105.0          34.0   \n",
       "1  Sun, Oct 12           9288         785            116.0          91.0   \n",
       "2  Mon, Oct 13          10480         884            145.0          79.0   \n",
       "3  Tue, Oct 14           9867         827            138.0          92.0   \n",
       "4  Wed, Oct 15           9793         832            140.0          94.0   \n",
       "\n",
       "   NC_success  \n",
       "0           0  \n",
       "1           1  \n",
       "2           0  \n",
       "3           0  \n",
       "4           0  "
      ]
     },
     "execution_count": 120,
     "metadata": {},
     "output_type": "execute_result"
    }
   ],
   "source": [
    "whole_exp['NC_cont']=whole_exp['Payments_cont']/whole_exp['Clicks_cont']\n",
    "whole_exp['NC_exp']=whole_exp['Payments_cont']/whole_exp['Clicks_exp']\n",
    "# wherever net_conversion of experiment group is lower than control group assigning 1 to the new column as a success - 'Binomial' \n",
    "whole_exp['NC_success'] = np.where(whole_exp['NC_cont']>=whole_exp['NC_exp'],1,0)\n",
    "whole_exp.drop(columns=['NC_exp','NC_cont'],inplace=True)\n",
    "whole_exp.head()"
   ]
  },
  {
   "cell_type": "code",
   "execution_count": 124,
   "metadata": {},
   "outputs": [
    {
     "name": "stdout",
     "output_type": "stream",
     "text": [
      "# days with net_conversion of experiment group is lower than control group out of 23 days is 10 days\n"
     ]
    }
   ],
   "source": [
    "print '# days with net_conversion of experiment group is lower than control group out of 23 days is',whole_exp.NC_success[whole_exp[\"NC_success\"]==1].count(), 'days'"
   ]
  },
  {
   "cell_type": "markdown",
   "metadata": {},
   "source": [
    "According to the binomial distribution with  p=0.5  and  n= total number of days;we'll now calucate the probability of  x  days being a success. Because we are doing a two-tailed test we want to double this probability and once we have we can call it the  p−value  and compare it to our  α . If the  p−value  is greater than the  α  the result is not significant"
   ]
  },
  {
   "cell_type": "code",
   "execution_count": 144,
   "metadata": {},
   "outputs": [],
   "source": [
    "#first a function for calculating probability of x=number of successes out of n \n",
    "# in this case x succesful days out of 23(n) days \n",
    "def get_success_prob(x,p,n):\n",
    "    p_observed=round(mt.factorial(n)/(mt.factorial(x)*mt.factorial(n-x))*p**x*(1-p)**(n-x),4)\n",
    "    return p_observed\n",
    "#next a function to compute the p-value from probabilities of maximum x\n",
    "def get_cumulative_2side_pvalue(x,p,n):\n",
    "    p_observed=0\n",
    "    for i in range(0,x+1):\n",
    "        p_observed=p_observed+get_success_prob(i,p,n)\n",
    "    return 2*p_observed*1.0"
   ]
  },
  {
   "cell_type": "code",
   "execution_count": 145,
   "metadata": {},
   "outputs": [
    {
     "data": {
      "text/plain": [
       "0.6774"
      ]
     },
     "execution_count": 145,
     "metadata": {},
     "output_type": "execute_result"
    }
   ],
   "source": [
    "get_cumulative_2side_pvalue(10,0.5,23) "
   ]
  },
  {
   "cell_type": "markdown",
   "metadata": {},
   "source": [
    "p-value is greater then 0.05 , thus the change is not significant is again validated "
   ]
  },
  {
   "cell_type": "markdown",
   "metadata": {},
   "source": [
    "## Conclusion is that it is better to not continue with the new screener message as it didn't really result in a significant change in our net conversion rate\n",
    "\n",
    "### Having said that because it is not a harmful/risky change, we can still tune the parameters and try our A/B Testing again to observe significant changes \n"
   ]
  }
 ],
 "metadata": {
  "kernelspec": {
   "display_name": "Python 2",
   "language": "python",
   "name": "python2"
  },
  "language_info": {
   "codemirror_mode": {
    "name": "ipython",
    "version": 2
   },
   "file_extension": ".py",
   "mimetype": "text/x-python",
   "name": "python",
   "nbconvert_exporter": "python",
   "pygments_lexer": "ipython2",
   "version": "2.7.15"
  }
 },
 "nbformat": 4,
 "nbformat_minor": 2
}
